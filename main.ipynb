{
  "nbformat": 4,
  "nbformat_minor": 0,
  "metadata": {
    "colab": {
      "name": "main.ipynb",
      "provenance": [],
      "collapsed_sections": []
    },
    "kernelspec": {
      "name": "python3",
      "display_name": "Python 3"
    },
    "language_info": {
      "name": "python"
    }
  },
  "cells": [
    {
      "cell_type": "markdown",
      "metadata": {
        "id": "zDfxdOyQjvtV"
      },
      "source": [
        "# Importing Dependencies"
      ]
    },
    {
      "cell_type": "code",
      "metadata": {
        "id": "poUSB_sSf59M"
      },
      "source": [
        "pip install yfinance"
      ],
      "execution_count": null,
      "outputs": []
    },
    {
      "cell_type": "code",
      "metadata": {
        "id": "n_edwDXZeg5a"
      },
      "source": [
        "import yfinance as yf\n",
        "import numpy as np\n",
        "import matplotlib.pyplot as plt"
      ],
      "execution_count": 2,
      "outputs": []
    },
    {
      "cell_type": "markdown",
      "metadata": {
        "id": "eJ7kemwVPQWu"
      },
      "source": [
        "# Computing the expected return due to order imbalance"
      ]
    },
    {
      "cell_type": "markdown",
      "metadata": {
        "id": "k3TQRuqLkQAN"
      },
      "source": [
        "I had to import market historical data as a data frame. I used the Yahoo Finance API to get historical data for Naspers (NPN.JO) for the past 10 years. (The code should work for any other stock, just replace its name into the \"stock name\" variable.)"
      ]
    },
    {
      "cell_type": "markdown",
      "metadata": {
        "id": "T8qfI4gAlL0N"
      },
      "source": [
        "In order to get the results I desired, I had to do a lot of data manipulating and preprocessing but it helped me understand the data, and also the equations I'm trying to represent, better. "
      ]
    },
    {
      "cell_type": "markdown",
      "metadata": {
        "id": "YrkhW8_0o7tb"
      },
      "source": [
        "The observable we are interested in is the change in logarythmic share price within an interval $\\Delta t$ $$G_{\\Delta t}(t)=lnS(t) -lnS(t-\\Delta t)$$ where $S(t)$ is the share price at time $t$. \n",
        "\n",
        "The Langevin equasion proposed by Bernd Rosenow is $$\\tau \\partial_t{g(t)=-rg(t)+\\mu q(t) + f(t)}$$\n",
        "\n",
        "where $f(t)$ is fluctuation noise and $q(t)$ is the order volume imbalance of buyers and sellers of a share. "
      ]
    },
    {
      "cell_type": "markdown",
      "metadata": {
        "id": "O8iLSrLWEOC_"
      },
      "source": [
        "The price impact function describes the functional relationship between the expectation value $\\langle G_{\\Delta t}\\rangle _{Q_{\\Delta t}}$ due to the volume imbalance \n",
        "\n",
        "Succeptibility $\\chi$ is defined to be is defined as the slope of the price impact function close to zero volume imbalance. $$\\chi = \\lim_{\\Delta Q \\to 0}\\frac{\\langle G_{\\Delta t}\\rangle _{Q_{\\Delta t}}}{\\Delta Q}$$"
      ]
    },
    {
      "cell_type": "markdown",
      "metadata": {
        "id": "_Li1NIHJPuwS"
      },
      "source": [
        "## Historical market data processing"
      ]
    },
    {
      "cell_type": "markdown",
      "metadata": {
        "id": "ckccwB7Ij65m"
      },
      "source": [
        "You can edit the averaging out bin with the variable \"n\""
      ]
    },
    {
      "cell_type": "code",
      "metadata": {
        "id": "pVtjbX-Vmh-x"
      },
      "source": [
        "## Defining constants\n",
        "\n",
        "stock_name = \"NPN.JO\"\n",
        "n = 60                                       # number to average out in the plot \n",
        "\n",
        "## Getting historical market data\n",
        "\n",
        "share = yf.Ticker(stock_name)\n",
        "\n",
        "hist = share.history(period=\"10y\", interval=\"1d\")\n",
        "hist = hist.iloc[::-1]\n",
        "\n",
        "## Modifying the data\n",
        "\n",
        "hist['G_dt'] = np.log(hist['Close']) - np.log(hist['Close'].shift(-1))\n",
        "hist['G_dt^2'] = hist['G_dt']**2\n",
        "hist['Volume'] = hist['Volume'] * hist['G_dt'] / abs(hist['G_dt'])\n",
        "hist.dropna(subset=['Volume','G_dt','G_dt^2'], inplace = True)\n",
        "\n",
        "hist1 = hist[['Volume','G_dt', 'G_dt^2']]\n",
        "hist1 = hist1.groupby(['Volume']).mean()\n",
        "hist1 = hist1.reset_index()\n",
        "hist1['chi'] = hist1['G_dt']/hist1['Volume'] \n",
        "hist2 = hist1.iloc[:,:]\n",
        "\n",
        "hist1 = hist1.groupby(np.arange(len(hist1))//n).mean()\n",
        "\n",
        "## Values to be plotted\n",
        "\n",
        "X = hist1.iloc[:, 0].values\n",
        "y = hist1.iloc[:,1].values\n",
        "\n",
        "\n"
      ],
      "execution_count": 3,
      "outputs": []
    },
    {
      "cell_type": "markdown",
      "metadata": {
        "id": "AtLRKvcojg9G"
      },
      "source": [
        "# Plot of the Price impact function"
      ]
    },
    {
      "cell_type": "code",
      "metadata": {
        "id": "lbvPAxDCil2Z"
      },
      "source": [
        "plt.scatter(X,y, s=0.6)\n",
        "plt.xlabel(r'$\\Delta Q$')\n",
        "plt.ylabel(r'$\\langle G_{\\Delta t}\\rangle$')\n",
        "plt.title(\"Expactation value of returns vs volume imbalance\")\n",
        "plt.show()"
      ],
      "execution_count": null,
      "outputs": []
    },
    {
      "cell_type": "markdown",
      "metadata": {
        "id": "y0_CtCac2yPx"
      },
      "source": [
        "This is the plot of the Price impact, which is the expected return due to an order imbalance, ploted against the order imbalance in the markets for a specific stock. \n",
        "\n",
        "This plot has the shape of a scaled hyperbolic tangent function. But most importantly, there is a linear portion for small order imbalances. "
      ]
    },
    {
      "cell_type": "markdown",
      "metadata": {
        "id": "wWzdDZCEP7tJ"
      },
      "source": [
        "# Computing relation of succeptibility with standard deviation"
      ]
    },
    {
      "cell_type": "code",
      "metadata": {
        "id": "qPsBlZpDOegS"
      },
      "source": [
        "m=120         # m serves as average for plot\n",
        "\n",
        "hist2[\"STD\"] = np.sqrt(hist2[\"G_dt^2\"]) #I first calculated the return, then squared it. took its average w.r.t volume and now im taking its sqrt\n",
        "hist2 = hist2.groupby([\"STD\"]).mean()\n",
        "hist2 = hist2.reset_index()\n",
        "hist2 = hist2.groupby(np.arange(len(hist2))//m).mean()\n",
        "\n",
        "z = hist2.iloc[:,-1].values\n",
        "k = hist2.iloc[:,0].values\n",
        "\n"
      ],
      "execution_count": null,
      "outputs": []
    },
    {
      "cell_type": "markdown",
      "metadata": {
        "id": "AbMfxAWNM5OS"
      },
      "source": [
        "Beneath I computed the relation between the susseptibility to price change and the standard diviation $\\frac{1}{r}$ of returns per trade. \n"
      ]
    },
    {
      "cell_type": "markdown",
      "metadata": {
        "id": "Fs6H-g3Qt6CE"
      },
      "source": [
        "# Plotting relation"
      ]
    },
    {
      "cell_type": "code",
      "metadata": {
        "colab": {
          "base_uri": "https://localhost:8080/",
          "height": 298
        },
        "id": "3qioIZKPt-SJ",
        "outputId": "09d6945d-f517-4e58-a914-d372d95db3a1"
      },
      "source": [
        "plt.scatter(k,z, s=0.6)\n",
        "#plt.xlim([0,0.05])\n",
        "#plt.ylim([-0.005, 0.005])\n",
        "plt.ylabel(r'$\\chi$')\n",
        "plt.xlabel(r'$\\frac{1}{r}$')\n",
        "#plt.title(\"Succeptability of price change agains standard diviation\")\n",
        "plt.show()"
      ],
      "execution_count": null,
      "outputs": [
        {
          "output_type": "display_data",
          "data": {
            "image/png": "[encoded data removed]",
            "text/plain": [
              "<Figure size 432x288 with 1 Axes>"
            ]
          },
          "metadata": {
            "tags": [],
            "needs_background": "light"
          }
        }
      ]
    }
  ]
}